{
 "cells": [
  {
   "cell_type": "code",
   "execution_count": 48,
   "metadata": {},
   "outputs": [],
   "source": [
    "import requests\n",
    "import pandas as pd\n",
    "\n",
    "def make_fs_dataframe(firm_code):\n",
    "    fs_url = 'http://comp.fnguide.com/SVO2/ASP/SVD_Finance.asp?pGB=1&cID=&MenuYn=Y&ReportGB=D&NewMenuID=103&stkGb=701&gicode=' + firm_code\n",
    "    fs_page = requests.get(fs_url)\n",
    "    fs_tables = pd.read_html(fs_page.text)\n",
    "    \n",
    "    temp_df = fs_tables[0]\n",
    "    temp_df = temp_df.set_index(temp_df.columns[0])\n",
    "    temp_df = temp_df[temp_df.columns[:4]]\n",
    "    temp_df = temp_df.loc[['매출액','영업이익','당기순이익']]\n",
    "    \n",
    "    temp_df2 = fs_tables[2]\n",
    "    temp_df2 = temp_df2.set_index(temp_df2.columns[0])\n",
    "    temp_df2 = temp_df2.loc[['자산','부채', '자본']]\n",
    "    \n",
    "    temp_df3 = fs_tables[4]\n",
    "    temp_df3 = temp_df3.set_index(temp_df3.columns[0])\n",
    "    temp_df3 = temp_df3.loc[['영업활동으로인한현금흐름']]\n",
    "    \n",
    "    fs_df = pd.concat([temp_df, temp_df2, temp_df3])\n",
    "    \n",
    "    return fs_df"
   ]
  },
  {
   "cell_type": "code",
   "execution_count": 49,
   "metadata": {},
   "outputs": [
    {
     "name": "stdout",
     "output_type": "stream",
     "text": [
      "                2016/12    2017/12    2018/12    2019/12\n",
      "IFRS(연결)                                                \n",
      "매출액            936490.0   963761.0   968126.0  1057464.0\n",
      "영업이익            51935.0    45747.0    24222.0    36055.0\n",
      "당기순이익           57197.0    45464.0    16450.0    31856.0\n",
      "자산            1788359.0  1781995.0  1806558.0  1945122.0\n",
      "부채            1064914.0  1034421.0  1067597.0  1181465.0\n",
      "자본             723446.0   747574.0   738960.0   763658.0\n",
      "영업활동으로인한현금흐름     9970.0    39224.0    37643.0     4198.0\n"
     ]
    }
   ],
   "source": [
    "res = make_fs_dataframe('A005380')\n",
    "print(res)"
   ]
  },
  {
   "cell_type": "code",
   "execution_count": 63,
   "metadata": {},
   "outputs": [],
   "source": [
    "def change_df(firm_code, dataframe):\n",
    "    for num, col in enumerate(dataframe.columns):\n",
    "        temp_df = pd.DataFrame({firm_code: dataframe[col]})\n",
    "        temp_df = temp_df.T\n",
    "        temp_df.columns = [[col]*len(dataframe), temp_df.columns]\n",
    "        if num == 0:\n",
    "            total_df = temp_df\n",
    "        else:\n",
    "            total_df = pd.merge(total_df, temp_df, how='outer', left_index= True, right_index= True)\n",
    "    \n",
    "    return total_df"
   ]
  },
  {
   "cell_type": "code",
   "execution_count": 64,
   "metadata": {},
   "outputs": [
    {
     "name": "stdout",
     "output_type": "stream",
     "text": [
      "           2016/12                                                          \\\n",
      "IFRS(연결)     당기순이익        매출액         부채      영업이익 영업활동으로인한현금흐름         자본   \n",
      "A005930   227261.0  2018667.0   692113.0  292407.0     473856.0  1929630.0   \n",
      "A005380    57197.0   936490.0  1064914.0   51935.0       9970.0   723446.0   \n",
      "A035420     7591.0    40226.0    22410.0   11020.0      11640.0    41296.0   \n",
      "A003550    10913.0    96739.0    52694.0   13227.0       8782.0   142201.0   \n",
      "A034730    28225.0   827299.0   607206.0   52808.0      91107.0   423267.0   \n",
      "\n",
      "                      2017/12                        ...      2019/09  \\\n",
      "IFRS(연결)         자산     당기순이익        매출액         부채  ... 영업활동으로인한현금흐름   \n",
      "A005930   2621743.0  421867.0  2395754.0   872607.0  ...          NaN   \n",
      "A005380   1788359.0   45464.0   963761.0  1034421.0  ...          NaN   \n",
      "A035420     63706.0    7701.0    46785.0    27141.0  ...       8184.0   \n",
      "A003550    194894.0   24356.0   118411.0    54682.0  ...       7024.0   \n",
      "A034730   1030473.0   50665.0   906128.0   640270.0  ...      59216.0   \n",
      "\n",
      "                                2019/12                                  \\\n",
      "IFRS(연결)        자본         자산     당기순이익        매출액         부채      영업이익   \n",
      "A005930        NaN        NaN  217389.0  2304009.0   896841.0  277685.0   \n",
      "A005380        NaN        NaN   31856.0  1057464.0  1181465.0   36055.0   \n",
      "A035420    64375.0   118067.0       NaN        NaN        NaN       NaN   \n",
      "A003550   193349.0   227723.0       NaN        NaN        NaN       NaN   \n",
      "A034730   549112.0  1318870.0       NaN        NaN        NaN       NaN   \n",
      "\n",
      "                                             \n",
      "IFRS(연결) 영업활동으로인한현금흐름         자본         자산  \n",
      "A005930      453829.0  2628804.0  3525645.0  \n",
      "A005380        4198.0   763658.0  1945122.0  \n",
      "A035420           NaN        NaN        NaN  \n",
      "A003550           NaN        NaN        NaN  \n",
      "A034730           NaN        NaN        NaN  \n",
      "\n",
      "[5 rows x 35 columns]\n"
     ]
    }
   ],
   "source": [
    "firmcode_list = ['A005930', 'A005380', 'A035420', 'A003550', 'A034730']\n",
    "\n",
    "for num, code in enumerate(firmcode_list):\n",
    "    fs_df = make_fs_dataframe(code)\n",
    "    fs_df_changed = change_df(code, fs_df)\n",
    "    if num == 0:\n",
    "        total_fs = fs_df_changed\n",
    "    else:\n",
    "        total_fs = pd.concat([total_fs, fs_df_changed])\n",
    "\n",
    "print(total_fs)"
   ]
  },
  {
   "cell_type": "code",
   "execution_count": null,
   "metadata": {},
   "outputs": [],
   "source": []
  }
 ],
 "metadata": {
  "kernelspec": {
   "display_name": "Python 3",
   "language": "python",
   "name": "python3"
  },
  "language_info": {
   "codemirror_mode": {
    "name": "ipython",
    "version": 3
   },
   "file_extension": ".py",
   "mimetype": "text/x-python",
   "name": "python",
   "nbconvert_exporter": "python",
   "pygments_lexer": "ipython3",
   "version": "3.7.6"
  }
 },
 "nbformat": 4,
 "nbformat_minor": 2
}
