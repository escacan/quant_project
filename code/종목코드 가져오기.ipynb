{
 "cells": [
  {
   "cell_type": "code",
   "execution_count": 1,
   "metadata": {},
   "outputs": [],
   "source": [
    "import pandas as pd\n",
    "\n",
    "path = \"/Users/kakao/Downloads/data.xls\"\n",
    "code_data = pd.read_excel(path)\n",
    "code_data = code_data[['종목코드', '기업명']]"
   ]
  },
  {
   "cell_type": "code",
   "execution_count": 2,
   "metadata": {},
   "outputs": [
    {
     "name": "stdout",
     "output_type": "stream",
     "text": [
      "        종목코드     기업명\n",
      "0      60310      3S\n",
      "1      95570  AJ네트웍스\n",
      "2       6840   AK홀딩스\n",
      "3      54620  APS홀딩스\n",
      "4     265520   AP시스템\n",
      "...      ...     ...\n",
      "2351  189980  흥국에프엔비\n",
      "2352     540    흥국화재\n",
      "2353    3280    흥아해운\n",
      "2354   37440      희림\n",
      "2355  238490      힘스\n",
      "\n",
      "[2356 rows x 2 columns]\n"
     ]
    }
   ],
   "source": [
    "print(code_data)"
   ]
  },
  {
   "cell_type": "code",
   "execution_count": 3,
   "metadata": {},
   "outputs": [
    {
     "name": "stdout",
     "output_type": "stream",
     "text": [
      "         종목코드     기업명\n",
      "0     A060310      3S\n",
      "1     A095570  AJ네트웍스\n",
      "2     A006840   AK홀딩스\n",
      "3     A054620  APS홀딩스\n",
      "4     A265520   AP시스템\n",
      "...       ...     ...\n",
      "2351  A189980  흥국에프엔비\n",
      "2352  A000540    흥국화재\n",
      "2353  A003280    흥아해운\n",
      "2354  A037440      희림\n",
      "2355  A238490      힘스\n",
      "\n",
      "[2356 rows x 2 columns]\n"
     ]
    }
   ],
   "source": [
    "def make_code(x):\n",
    "    x = str(x)\n",
    "    return 'A' + '0'*(6-len(x)) + x\n",
    "\n",
    "code_data['종목코드'] = code_data['종목코드'].apply(make_code)\n",
    "\n",
    "print(code_data)"
   ]
  },
  {
   "cell_type": "code",
   "execution_count": null,
   "metadata": {},
   "outputs": [],
   "source": []
  }
 ],
 "metadata": {
  "kernelspec": {
   "display_name": "Python 3",
   "language": "python",
   "name": "python3"
  },
  "language_info": {
   "codemirror_mode": {
    "name": "ipython",
    "version": 3
   },
   "file_extension": ".py",
   "mimetype": "text/x-python",
   "name": "python",
   "nbconvert_exporter": "python",
   "pygments_lexer": "ipython3",
   "version": "3.7.6"
  }
 },
 "nbformat": 4,
 "nbformat_minor": 4
}
