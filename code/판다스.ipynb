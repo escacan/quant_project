{
 "cells": [
  {
   "cell_type": "code",
   "execution_count": 1,
   "metadata": {},
   "outputs": [
    {
     "data": {
      "text/plain": [
       "0    100\n",
       "1    500\n",
       "2    150\n",
       "dtype: int64"
      ]
     },
     "execution_count": 1,
     "metadata": {},
     "output_type": "execute_result"
    }
   ],
   "source": [
    "import pandas as pd\n",
    "\n",
    "pd.Series([100,500,150])"
   ]
  },
  {
   "cell_type": "code",
   "execution_count": 2,
   "metadata": {},
   "outputs": [
    {
     "data": {
      "text/plain": [
       "kakao      100\n",
       "samsung    500\n",
       "hyundai    150\n",
       "dtype: int64"
      ]
     },
     "execution_count": 2,
     "metadata": {},
     "output_type": "execute_result"
    }
   ],
   "source": [
    "pd.Series([100,500,150], index=['kakao','samsung','hyundai'])"
   ]
  },
  {
   "cell_type": "code",
   "execution_count": 3,
   "metadata": {},
   "outputs": [
    {
     "name": "stdout",
     "output_type": "stream",
     "text": [
      "100\n",
      "150\n"
     ]
    }
   ],
   "source": [
    "series_ex1 = pd.Series([100,500,150], index=['kakao','samsung','hyundai'])\n",
    "print(series_ex1['kakao'])\n",
    "print(series_ex1['hyundai'])"
   ]
  },
  {
   "cell_type": "code",
   "execution_count": 4,
   "metadata": {},
   "outputs": [
    {
     "name": "stdout",
     "output_type": "stream",
     "text": [
      "500\n"
     ]
    }
   ],
   "source": [
    "print(series_ex1[1])"
   ]
  },
  {
   "cell_type": "code",
   "execution_count": 6,
   "metadata": {},
   "outputs": [
    {
     "data": {
      "text/html": [
       "<div>\n",
       "<style scoped>\n",
       "    .dataframe tbody tr th:only-of-type {\n",
       "        vertical-align: middle;\n",
       "    }\n",
       "\n",
       "    .dataframe tbody tr th {\n",
       "        vertical-align: top;\n",
       "    }\n",
       "\n",
       "    .dataframe thead th {\n",
       "        text-align: right;\n",
       "    }\n",
       "</style>\n",
       "<table border=\"1\" class=\"dataframe\">\n",
       "  <thead>\n",
       "    <tr style=\"text-align: right;\">\n",
       "      <th></th>\n",
       "      <th>가격</th>\n",
       "      <th>PER</th>\n",
       "      <th>ROA</th>\n",
       "    </tr>\n",
       "  </thead>\n",
       "  <tbody>\n",
       "    <tr>\n",
       "      <td>카카오</td>\n",
       "      <td>100</td>\n",
       "      <td>0.5</td>\n",
       "      <td>1.01</td>\n",
       "    </tr>\n",
       "    <tr>\n",
       "      <td>삼전</td>\n",
       "      <td>500</td>\n",
       "      <td>1.2</td>\n",
       "      <td>3.10</td>\n",
       "    </tr>\n",
       "    <tr>\n",
       "      <td>현대차</td>\n",
       "      <td>150</td>\n",
       "      <td>0.2</td>\n",
       "      <td>0.97</td>\n",
       "    </tr>\n",
       "  </tbody>\n",
       "</table>\n",
       "</div>"
      ],
      "text/plain": [
       "      가격  PER   ROA\n",
       "카카오  100  0.5  1.01\n",
       "삼전   500  1.2  3.10\n",
       "현대차  150  0.2  0.97"
      ]
     },
     "execution_count": 6,
     "metadata": {},
     "output_type": "execute_result"
    }
   ],
   "source": [
    "pd.DataFrame({'가격':[100,500,150], 'PER':[0.5,1.2,0.2], 'ROA':[1.01,3.1,0.97]}, index=['카카오','삼전','현대차'])"
   ]
  },
  {
   "cell_type": "code",
   "execution_count": 8,
   "metadata": {},
   "outputs": [
    {
     "data": {
      "text/plain": [
       "150"
      ]
     },
     "execution_count": 8,
     "metadata": {},
     "output_type": "execute_result"
    }
   ],
   "source": [
    "df_ex1 = pd.DataFrame({'가격':[100,500,150], 'PER':[0.5,1.2,0.2], 'ROA':[1.01,3.1,0.97]}, index=['카카오','삼전','현대차'])\n",
    "df_ex1['가격']['현대차']"
   ]
  },
  {
   "cell_type": "code",
   "execution_count": 11,
   "metadata": {},
   "outputs": [
    {
     "data": {
      "text/plain": [
       "가격     500.0\n",
       "PER      1.2\n",
       "ROA      3.1\n",
       "Name: 삼전, dtype: float64"
      ]
     },
     "execution_count": 11,
     "metadata": {},
     "output_type": "execute_result"
    }
   ],
   "source": [
    "df_ex1.loc['삼전']"
   ]
  },
  {
   "cell_type": "code",
   "execution_count": 13,
   "metadata": {},
   "outputs": [
    {
     "data": {
      "text/html": [
       "<div>\n",
       "<style scoped>\n",
       "    .dataframe tbody tr th:only-of-type {\n",
       "        vertical-align: middle;\n",
       "    }\n",
       "\n",
       "    .dataframe tbody tr th {\n",
       "        vertical-align: top;\n",
       "    }\n",
       "\n",
       "    .dataframe thead th {\n",
       "        text-align: right;\n",
       "    }\n",
       "</style>\n",
       "<table border=\"1\" class=\"dataframe\">\n",
       "  <thead>\n",
       "    <tr style=\"text-align: right;\">\n",
       "      <th></th>\n",
       "      <th>가격</th>\n",
       "      <th>PER</th>\n",
       "      <th>ROA</th>\n",
       "    </tr>\n",
       "  </thead>\n",
       "  <tbody>\n",
       "    <tr>\n",
       "      <td>삼전</td>\n",
       "      <td>500</td>\n",
       "      <td>1.2</td>\n",
       "      <td>3.10</td>\n",
       "    </tr>\n",
       "    <tr>\n",
       "      <td>현대차</td>\n",
       "      <td>150</td>\n",
       "      <td>0.2</td>\n",
       "      <td>0.97</td>\n",
       "    </tr>\n",
       "  </tbody>\n",
       "</table>\n",
       "</div>"
      ],
      "text/plain": [
       "      가격  PER   ROA\n",
       "삼전   500  1.2  3.10\n",
       "현대차  150  0.2  0.97"
      ]
     },
     "execution_count": 13,
     "metadata": {},
     "output_type": "execute_result"
    }
   ],
   "source": [
    "df_ex1[df_ex1['가격'] >= 150]"
   ]
  },
  {
   "cell_type": "code",
   "execution_count": 15,
   "metadata": {},
   "outputs": [
    {
     "data": {
      "text/plain": [
       "삼전     500\n",
       "현대차    150\n",
       "카카오    100\n",
       "Name: 가격, dtype: int64"
      ]
     },
     "execution_count": 15,
     "metadata": {},
     "output_type": "execute_result"
    }
   ],
   "source": [
    "df_ex1['가격'].sort_values(ascending=False)"
   ]
  },
  {
   "cell_type": "code",
   "execution_count": 16,
   "metadata": {},
   "outputs": [
    {
     "data": {
      "text/html": [
       "<div>\n",
       "<style scoped>\n",
       "    .dataframe tbody tr th:only-of-type {\n",
       "        vertical-align: middle;\n",
       "    }\n",
       "\n",
       "    .dataframe tbody tr th {\n",
       "        vertical-align: top;\n",
       "    }\n",
       "\n",
       "    .dataframe thead th {\n",
       "        text-align: right;\n",
       "    }\n",
       "</style>\n",
       "<table border=\"1\" class=\"dataframe\">\n",
       "  <thead>\n",
       "    <tr style=\"text-align: right;\">\n",
       "      <th></th>\n",
       "      <th>가격</th>\n",
       "      <th>PER</th>\n",
       "      <th>ROA</th>\n",
       "    </tr>\n",
       "  </thead>\n",
       "  <tbody>\n",
       "    <tr>\n",
       "      <td>현대차</td>\n",
       "      <td>150</td>\n",
       "      <td>0.2</td>\n",
       "      <td>0.97</td>\n",
       "    </tr>\n",
       "    <tr>\n",
       "      <td>카카오</td>\n",
       "      <td>100</td>\n",
       "      <td>0.5</td>\n",
       "      <td>1.01</td>\n",
       "    </tr>\n",
       "    <tr>\n",
       "      <td>삼전</td>\n",
       "      <td>500</td>\n",
       "      <td>1.2</td>\n",
       "      <td>3.10</td>\n",
       "    </tr>\n",
       "  </tbody>\n",
       "</table>\n",
       "</div>"
      ],
      "text/plain": [
       "      가격  PER   ROA\n",
       "현대차  150  0.2  0.97\n",
       "카카오  100  0.5  1.01\n",
       "삼전   500  1.2  3.10"
      ]
     },
     "execution_count": 16,
     "metadata": {},
     "output_type": "execute_result"
    }
   ],
   "source": [
    "df_ex1.sort_values(by='PER')"
   ]
  },
  {
   "cell_type": "code",
   "execution_count": 18,
   "metadata": {},
   "outputs": [
    {
     "data": {
      "text/plain": [
       "카카오    3.0\n",
       "삼전     1.0\n",
       "현대차    2.0\n",
       "Name: 가격, dtype: float64"
      ]
     },
     "execution_count": 18,
     "metadata": {},
     "output_type": "execute_result"
    }
   ],
   "source": [
    "df_ex1['가격'].rank(ascending=False)"
   ]
  },
  {
   "cell_type": "code",
   "execution_count": 21,
   "metadata": {},
   "outputs": [
    {
     "data": {
      "text/html": [
       "<div>\n",
       "<style scoped>\n",
       "    .dataframe tbody tr th:only-of-type {\n",
       "        vertical-align: middle;\n",
       "    }\n",
       "\n",
       "    .dataframe tbody tr th {\n",
       "        vertical-align: top;\n",
       "    }\n",
       "\n",
       "    .dataframe thead th {\n",
       "        text-align: right;\n",
       "    }\n",
       "</style>\n",
       "<table border=\"1\" class=\"dataframe\">\n",
       "  <thead>\n",
       "    <tr style=\"text-align: right;\">\n",
       "      <th></th>\n",
       "      <th>PER</th>\n",
       "    </tr>\n",
       "    <tr>\n",
       "      <th>회사명</th>\n",
       "      <th></th>\n",
       "    </tr>\n",
       "  </thead>\n",
       "  <tbody>\n",
       "    <tr>\n",
       "      <td>3S</td>\n",
       "      <td>-11.87</td>\n",
       "    </tr>\n",
       "    <tr>\n",
       "      <td>AJ네트웍스</td>\n",
       "      <td>25.15</td>\n",
       "    </tr>\n",
       "    <tr>\n",
       "      <td>AJ렌터카</td>\n",
       "      <td>24.85</td>\n",
       "    </tr>\n",
       "    <tr>\n",
       "      <td>AK홀딩스</td>\n",
       "      <td>11.49</td>\n",
       "    </tr>\n",
       "    <tr>\n",
       "      <td>APS홀딩스</td>\n",
       "      <td>0.23</td>\n",
       "    </tr>\n",
       "    <tr>\n",
       "      <td>...</td>\n",
       "      <td>...</td>\n",
       "    </tr>\n",
       "    <tr>\n",
       "      <td>흥국에프엔비</td>\n",
       "      <td>23.20</td>\n",
       "    </tr>\n",
       "    <tr>\n",
       "      <td>흥국화재</td>\n",
       "      <td>5.93</td>\n",
       "    </tr>\n",
       "    <tr>\n",
       "      <td>흥아해운</td>\n",
       "      <td>-4.87</td>\n",
       "    </tr>\n",
       "    <tr>\n",
       "      <td>희림</td>\n",
       "      <td>20.66</td>\n",
       "    </tr>\n",
       "    <tr>\n",
       "      <td>힘스</td>\n",
       "      <td>6.63</td>\n",
       "    </tr>\n",
       "  </tbody>\n",
       "</table>\n",
       "<p>2005 rows × 1 columns</p>\n",
       "</div>"
      ],
      "text/plain": [
       "          PER\n",
       "회사명          \n",
       "3S     -11.87\n",
       "AJ네트웍스  25.15\n",
       "AJ렌터카   24.85\n",
       "AK홀딩스   11.49\n",
       "APS홀딩스   0.23\n",
       "...       ...\n",
       "흥국에프엔비  23.20\n",
       "흥국화재     5.93\n",
       "흥아해운    -4.87\n",
       "희림      20.66\n",
       "힘스       6.63\n",
       "\n",
       "[2005 rows x 1 columns]"
      ]
     },
     "execution_count": 21,
     "metadata": {},
     "output_type": "execute_result"
    }
   ],
   "source": [
    "file_path='/Users/kakao/Desktop/stock_data/magicData.xlsx'\n",
    "pd.read_excel(file_path, sheet_name='PER', index_col=0)"
   ]
  },
  {
   "cell_type": "code",
   "execution_count": 25,
   "metadata": {},
   "outputs": [],
   "source": [
    "df_ex2 = pd.read_excel(file_path, sheet_name='PER', index_col=0)\n",
    "df_ex3 = df_ex2[df_ex2['PER'] > 0]"
   ]
  },
  {
   "cell_type": "code",
   "execution_count": 30,
   "metadata": {},
   "outputs": [],
   "source": [
    "df_ex4 = df_ex3.sort_values(by='PER')"
   ]
  },
  {
   "cell_type": "code",
   "execution_count": 35,
   "metadata": {},
   "outputs": [],
   "source": [
    "df_ex4['Ranking'] = df_ex3['PER'].rank()"
   ]
  },
  {
   "cell_type": "code",
   "execution_count": 36,
   "metadata": {},
   "outputs": [
    {
     "name": "stdout",
     "output_type": "stream",
     "text": [
      "              PER  Ranking\n",
      "회사명                       \n",
      "APS홀딩스       0.23      1.0\n",
      "STX중공업       0.37      2.0\n",
      "제일파마홀딩스      0.39      3.0\n",
      "이녹스          0.75      4.0\n",
      "유비쿼스홀딩스      1.04      5.0\n",
      "...           ...      ...\n",
      "신영스팩3호    3369.00   1389.0\n",
      "SCI평가정보   3662.70   1390.0\n",
      "제이에스티나    5455.44   1391.0\n",
      "셀트리온제약   10318.45   1392.0\n",
      "코미팜      23333.05   1393.0\n",
      "\n",
      "[1393 rows x 2 columns]\n"
     ]
    }
   ],
   "source": [
    "print(df_ex4)"
   ]
  },
  {
   "cell_type": "code",
   "execution_count": 37,
   "metadata": {},
   "outputs": [],
   "source": [
    "file_path='/Users/kakao/Desktop/stock_data/magicData.xlsx'\n",
    "roa_data = pd.read_excel(file_path, sheet_name='ROA', index_col=0)\n",
    "filtered_roa = roa_data.dropna()"
   ]
  },
  {
   "cell_type": "code",
   "execution_count": 38,
   "metadata": {},
   "outputs": [],
   "source": [
    "filtered_roa.columns=['ROA']"
   ]
  },
  {
   "cell_type": "code",
   "execution_count": 39,
   "metadata": {},
   "outputs": [],
   "source": [
    "sorted_roa = filtered_roa.sort_values(by='ROA', ascending=False)\n",
    "sorted_roa['ROA랭킹'] = sorted_roa.rank(ascending=False)"
   ]
  },
  {
   "cell_type": "code",
   "execution_count": 40,
   "metadata": {},
   "outputs": [
    {
     "name": "stdout",
     "output_type": "stream",
     "text": [
      "             ROA   ROA랭킹\n",
      "회사명                     \n",
      "넥스턴        56.25     1.0\n",
      "삼화네트웍스     50.18     2.0\n",
      "오가닉티코스메틱   44.06     3.0\n",
      "티웨이홀딩스     36.19     4.0\n",
      "마이크로프랜드    34.58     5.0\n",
      "...          ...     ...\n",
      "아이진       -46.23  1926.0\n",
      "유바이오로직스   -48.08  1927.0\n",
      "이에스에이     -59.07  1928.0\n",
      "큐렉소       -89.29  1929.0\n",
      "에스아이티글로벌 -108.24  1930.0\n",
      "\n",
      "[1930 rows x 2 columns]\n"
     ]
    }
   ],
   "source": [
    "print(sorted_roa)"
   ]
  },
  {
   "cell_type": "code",
   "execution_count": 41,
   "metadata": {},
   "outputs": [],
   "source": [
    "total_df = pd.merge(df_ex4, sorted_roa, how='inner',left_index=True, right_index=True)"
   ]
  },
  {
   "cell_type": "code",
   "execution_count": 42,
   "metadata": {},
   "outputs": [
    {
     "name": "stdout",
     "output_type": "stream",
     "text": [
      "          PER  Ranking    ROA   ROA랭킹\n",
      "회사명                                  \n",
      "AJ네트웍스  25.15    905.0   3.43   895.0\n",
      "AJ렌터카   24.85    893.0   3.39   901.5\n",
      "AK홀딩스   11.49    413.0  11.36   223.0\n",
      "AP시스템   14.63    582.0  11.92   194.0\n",
      "AP위성    21.65    818.0  -4.76  1676.0\n",
      "...       ...      ...    ...     ...\n",
      "흥구석유    22.15    830.0   2.50  1017.5\n",
      "흥국       8.61    257.0   7.51   461.0\n",
      "흥국에프엔비  23.20    855.0  12.91   171.0\n",
      "흥국화재     5.93     99.5   1.00  1209.5\n",
      "희림      20.66    787.0   5.62   634.5\n",
      "\n",
      "[1251 rows x 4 columns]\n"
     ]
    }
   ],
   "source": [
    "print(total_df)"
   ]
  },
  {
   "cell_type": "code",
   "execution_count": 45,
   "metadata": {},
   "outputs": [
    {
     "data": {
      "text/html": [
       "<div>\n",
       "<style scoped>\n",
       "    .dataframe tbody tr th:only-of-type {\n",
       "        vertical-align: middle;\n",
       "    }\n",
       "\n",
       "    .dataframe tbody tr th {\n",
       "        vertical-align: top;\n",
       "    }\n",
       "\n",
       "    .dataframe thead th {\n",
       "        text-align: right;\n",
       "    }\n",
       "</style>\n",
       "<table border=\"1\" class=\"dataframe\">\n",
       "  <thead>\n",
       "    <tr style=\"text-align: right;\">\n",
       "      <th></th>\n",
       "      <th>PER</th>\n",
       "      <th>Ranking</th>\n",
       "      <th>ROA</th>\n",
       "      <th>ROA랭킹</th>\n",
       "      <th>종합 랭크</th>\n",
       "    </tr>\n",
       "    <tr>\n",
       "      <th>회사명</th>\n",
       "      <th></th>\n",
       "      <th></th>\n",
       "      <th></th>\n",
       "      <th></th>\n",
       "      <th></th>\n",
       "    </tr>\n",
       "  </thead>\n",
       "  <tbody>\n",
       "    <tr>\n",
       "      <td>서한</td>\n",
       "      <td>3.22</td>\n",
       "      <td>22.0</td>\n",
       "      <td>23.65</td>\n",
       "      <td>25.0</td>\n",
       "      <td>1.0</td>\n",
       "    </tr>\n",
       "    <tr>\n",
       "      <td>골프존</td>\n",
       "      <td>4.19</td>\n",
       "      <td>38.0</td>\n",
       "      <td>24.77</td>\n",
       "      <td>21.0</td>\n",
       "      <td>2.0</td>\n",
       "    </tr>\n",
       "    <tr>\n",
       "      <td>동원개발</td>\n",
       "      <td>4.41</td>\n",
       "      <td>42.0</td>\n",
       "      <td>23.62</td>\n",
       "      <td>26.0</td>\n",
       "      <td>3.0</td>\n",
       "    </tr>\n",
       "    <tr>\n",
       "      <td>오가닉티코스메틱</td>\n",
       "      <td>5.11</td>\n",
       "      <td>66.5</td>\n",
       "      <td>44.06</td>\n",
       "      <td>3.0</td>\n",
       "      <td>4.0</td>\n",
       "    </tr>\n",
       "    <tr>\n",
       "      <td>모베이스</td>\n",
       "      <td>4.49</td>\n",
       "      <td>45.0</td>\n",
       "      <td>20.03</td>\n",
       "      <td>52.0</td>\n",
       "      <td>5.0</td>\n",
       "    </tr>\n",
       "    <tr>\n",
       "      <td>...</td>\n",
       "      <td>...</td>\n",
       "      <td>...</td>\n",
       "      <td>...</td>\n",
       "      <td>...</td>\n",
       "      <td>...</td>\n",
       "    </tr>\n",
       "    <tr>\n",
       "      <td>SCI평가정보</td>\n",
       "      <td>3662.70</td>\n",
       "      <td>1390.0</td>\n",
       "      <td>-6.80</td>\n",
       "      <td>1734.0</td>\n",
       "      <td>1247.0</td>\n",
       "    </tr>\n",
       "    <tr>\n",
       "      <td>덕양산업</td>\n",
       "      <td>424.93</td>\n",
       "      <td>1358.0</td>\n",
       "      <td>-8.46</td>\n",
       "      <td>1773.0</td>\n",
       "      <td>1248.0</td>\n",
       "    </tr>\n",
       "    <tr>\n",
       "      <td>디비케이</td>\n",
       "      <td>119.68</td>\n",
       "      <td>1281.0</td>\n",
       "      <td>-14.23</td>\n",
       "      <td>1863.0</td>\n",
       "      <td>1249.0</td>\n",
       "    </tr>\n",
       "    <tr>\n",
       "      <td>이루온</td>\n",
       "      <td>197.50</td>\n",
       "      <td>1328.0</td>\n",
       "      <td>-13.28</td>\n",
       "      <td>1847.0</td>\n",
       "      <td>1250.0</td>\n",
       "    </tr>\n",
       "    <tr>\n",
       "      <td>감마누</td>\n",
       "      <td>395.36</td>\n",
       "      <td>1355.0</td>\n",
       "      <td>-22.41</td>\n",
       "      <td>1893.0</td>\n",
       "      <td>1251.0</td>\n",
       "    </tr>\n",
       "  </tbody>\n",
       "</table>\n",
       "<p>1251 rows × 5 columns</p>\n",
       "</div>"
      ],
      "text/plain": [
       "              PER  Ranking    ROA   ROA랭킹   종합 랭크\n",
       "회사명                                              \n",
       "서한           3.22     22.0  23.65    25.0     1.0\n",
       "골프존          4.19     38.0  24.77    21.0     2.0\n",
       "동원개발         4.41     42.0  23.62    26.0     3.0\n",
       "오가닉티코스메틱     5.11     66.5  44.06     3.0     4.0\n",
       "모베이스         4.49     45.0  20.03    52.0     5.0\n",
       "...           ...      ...    ...     ...     ...\n",
       "SCI평가정보   3662.70   1390.0  -6.80  1734.0  1247.0\n",
       "덕양산업       424.93   1358.0  -8.46  1773.0  1248.0\n",
       "디비케이       119.68   1281.0 -14.23  1863.0  1249.0\n",
       "이루온        197.50   1328.0 -13.28  1847.0  1250.0\n",
       "감마누        395.36   1355.0 -22.41  1893.0  1251.0\n",
       "\n",
       "[1251 rows x 5 columns]"
      ]
     },
     "execution_count": 45,
     "metadata": {},
     "output_type": "execute_result"
    }
   ],
   "source": [
    "total_df['종합 랭크'] = (total_df['Ranking'] + total_df['ROA랭킹']).rank()\n",
    "total_df.sort_values(by='종합 랭크')"
   ]
  },
  {
   "cell_type": "code",
   "execution_count": null,
   "metadata": {},
   "outputs": [],
   "source": []
  }
 ],
 "metadata": {
  "kernelspec": {
   "display_name": "Python 3",
   "language": "python",
   "name": "python3"
  },
  "language_info": {
   "codemirror_mode": {
    "name": "ipython",
    "version": 3
   },
   "file_extension": ".py",
   "mimetype": "text/x-python",
   "name": "python",
   "nbconvert_exporter": "python",
   "pygments_lexer": "ipython3",
   "version": "3.7.4"
  }
 },
 "nbformat": 4,
 "nbformat_minor": 2
}
